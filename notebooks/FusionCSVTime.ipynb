{
 "cells": [
  {
   "cell_type": "markdown",
   "metadata": {},
   "source": [
    "## **Sommaire**\n",
    "\n",
    "1. [Importation des bibliothèques](#importation)\n"
   ]
  },
  {
   "cell_type": "markdown",
   "metadata": {},
   "source": [
    "---"
   ]
  },
  {
   "cell_type": "markdown",
   "metadata": {},
   "source": [
    "### 1. <a id='Merge'>Merge des deux CSV sur les horaires</a>"
   ]
  },
  {
   "cell_type": "code",
   "execution_count": 2,
   "metadata": {},
   "outputs": [
    {
     "name": "stdout",
     "output_type": "stream",
     "text": [
      "   Unnamed: 0  2015-01-01_out       2015-01-02_out       2015-01-05_out  \\\n",
      "0           1             NaN  2015-01-02 16:56:15  2015-01-05 17:20:11   \n",
      "1           2             NaN  2015-01-02 18:22:17  2015-01-05 17:48:22   \n",
      "2           3             NaN  2015-01-02 16:59:14  2015-01-05 17:06:46   \n",
      "3           4             NaN  2015-01-02 17:25:24  2015-01-05 17:14:03   \n",
      "4           5             NaN  2015-01-02 18:31:37  2015-01-05 17:49:15   \n",
      "\n",
      "        2015-01-06_out       2015-01-07_out       2015-01-08_out  \\\n",
      "0  2015-01-06 17:19:05  2015-01-07 16:34:55  2015-01-08 17:08:32   \n",
      "1                  NaN  2015-01-07 17:09:06  2015-01-08 17:34:04   \n",
      "2  2015-01-06 16:38:32  2015-01-07 16:33:21  2015-01-08 17:24:22   \n",
      "3  2015-01-06 17:07:42  2015-01-07 16:32:40  2015-01-08 16:53:11   \n",
      "4  2015-01-06 17:26:25  2015-01-07 17:37:59  2015-01-08 17:59:28   \n",
      "\n",
      "        2015-01-09_out       2015-01-12_out       2015-01-13_out  ...  \\\n",
      "0  2015-01-09 17:38:29  2015-01-12 16:58:39  2015-01-13 18:02:58  ...   \n",
      "1  2015-01-09 16:52:29  2015-01-12 17:36:48  2015-01-13 18:00:13  ...   \n",
      "2  2015-01-09 16:57:30  2015-01-12 17:28:54  2015-01-13 17:21:25  ...   \n",
      "3  2015-01-09 17:19:47  2015-01-12 17:13:37  2015-01-13 17:11:45  ...   \n",
      "4  2015-01-09 17:44:08  2015-01-12 18:51:21  2015-01-13 18:14:58  ...   \n",
      "\n",
      "         2015-12-18_in        2015-12-21_in        2015-12-22_in  \\\n",
      "0                  NaN  2015-12-21 09:55:29  2015-12-22 10:04:06   \n",
      "1  2015-12-18 10:37:17  2015-12-21 09:49:02  2015-12-22 10:33:51   \n",
      "2  2015-12-18 10:15:14  2015-12-21 10:10:28  2015-12-22 09:44:44   \n",
      "3  2015-12-18 10:17:38  2015-12-21 09:58:21  2015-12-22 10:04:25   \n",
      "4  2015-12-18 09:58:35  2015-12-21 10:03:41  2015-12-22 10:10:30   \n",
      "\n",
      "         2015-12-23_in        2015-12-24_in 2015-12-25_in  \\\n",
      "0  2015-12-23 10:14:27  2015-12-24 10:11:35           NaN   \n",
      "1  2015-12-23 10:12:10                  NaN           NaN   \n",
      "2  2015-12-23 10:15:54  2015-12-24 10:07:26           NaN   \n",
      "3  2015-12-23 10:11:46  2015-12-24 09:43:15           NaN   \n",
      "4  2015-12-23 10:13:36  2015-12-24 09:44:24           NaN   \n",
      "\n",
      "         2015-12-28_in        2015-12-29_in        2015-12-30_in  \\\n",
      "0  2015-12-28 10:13:41  2015-12-29 10:03:36  2015-12-30 09:54:12   \n",
      "1  2015-12-28 09:31:45  2015-12-29 09:55:49  2015-12-30 10:32:25   \n",
      "2  2015-12-28 09:42:05  2015-12-29 09:43:36  2015-12-30 09:34:05   \n",
      "3  2015-12-28 09:52:44  2015-12-29 09:33:16  2015-12-30 10:18:12   \n",
      "4  2015-12-28 10:05:15  2015-12-29 10:30:53  2015-12-30 09:18:21   \n",
      "\n",
      "         2015-12-31_in  \n",
      "0  2015-12-31 10:12:44  \n",
      "1  2015-12-31 09:27:20  \n",
      "2  2015-12-31 10:28:39  \n",
      "3  2015-12-31 10:01:15  \n",
      "4  2015-12-31 09:41:09  \n",
      "\n",
      "[5 rows x 523 columns]\n"
     ]
    }
   ],
   "source": [
    "import pandas as pd\n",
    "\n",
    "path = \"../data/\"\n",
    "\n",
    "# Charger les deux fichiers CSV\n",
    "out_time_file = \"out_time.csv\"\n",
    "in_time_file = \"in_time.csv\"\n",
    "\n",
    "out_time = pd.read_csv(path + out_time_file)\n",
    "in_time = pd.read_csv(path + in_time_file)\n",
    "\n",
    "# Fusionner les deux DataFrames sur la première colonne (ID) avec des suffixes personnalisés\n",
    "merged_df = pd.merge(out_time, in_time, on=out_time.columns[0], how=\"outer\", suffixes=(\"_out\", \"_in\"))\n",
    "\n",
    "# Trier par l'ID (première colonne)\n",
    "merged_df = merged_df.sort_values(by=out_time.columns[0])\n",
    "\n",
    "# Sauvegarder le fichier fusionné\n",
    "merged_df.to_csv(path + \"fusionné.csv\", index=False)\n",
    "\n",
    "# Afficher un aperçu\n",
    "print(merged_df.head())\n"
   ]
  },
  {
   "cell_type": "markdown",
   "metadata": {},
   "source": [
    "---"
   ]
  }
 ],
 "metadata": {
  "kernelspec": {
   "display_name": "Python 3",
   "language": "python",
   "name": "python3"
  },
  "language_info": {
   "codemirror_mode": {
    "name": "ipython",
    "version": 3
   },
   "file_extension": ".py",
   "mimetype": "text/x-python",
   "name": "python",
   "nbconvert_exporter": "python",
   "pygments_lexer": "ipython3",
   "version": "3.12.8"
  }
 },
 "nbformat": 4,
 "nbformat_minor": 2
}
