{
 "cells": [
  {
   "cell_type": "code",
   "execution_count": 3,
   "metadata": {
    "ExecuteTime": {
     "end_time": "2025-01-27T11:21:22.129750Z",
     "start_time": "2025-01-27T11:21:19.188887Z"
    }
   },
   "outputs": [
    {
     "name": "stderr",
     "output_type": "stream",
     "text": [
      "C:\\Users\\Utilisateur\\AppData\\Local\\Temp\\ipykernel_548\\3210436664.py:24: PerformanceWarning: DataFrame is highly fragmented.  This is usually the result of calling `frame.insert` many times, which has poor performance.  Consider joining all columns at once using pd.concat(axis=1) instead. To get a de-fragmented frame, use `newframe = frame.copy()`\n",
      "  out_time[\"Total_Hours\"] = total_hours_per_employee\n"
     ]
    }
   ],
   "source": [
    "import pandas as pd\n",
    "\n",
    "path = \"../data/\"\n",
    "\n",
    "# Charger les deux fichiers CSV ou dataframe\n",
    "out_time_file = \"out_time_clean.csv\"\n",
    "in_time_file = \"in_time_clean.csv\"\n",
    "\n",
    "out_time = pd.read_csv(path + out_time_file)\n",
    "in_time = pd.read_csv(path + in_time_file)\n",
    "\n",
    "# Vérifier et convertir les colonnes en datetime\n",
    "for col in out_time.columns[1:]:\n",
    "    in_time[col] = pd.to_datetime(in_time[col], errors=\"coerce\")\n",
    "    out_time[col] = pd.to_datetime(out_time[col], errors=\"coerce\")\n",
    "\n",
    "# Calculer la différence entre les deux datasets\n",
    "time_difference = out_time.iloc[:, 1:] - in_time.iloc[:, 1:]\n",
    "\n",
    "time_difference_in_hours = time_difference.apply(lambda row: row.dt.total_seconds() / 3600, axis=1)\n",
    "total_hours_per_employee = time_difference_in_hours.sum(axis=1, skipna=True).round(2)\n",
    "\n",
    "# Ajouter une colonne pour la durée totale\n",
    "out_time[\"Total_Hours\"] = total_hours_per_employee\n",
    "\n",
    "# Sauvegarder le résultat dans un fichier CSV\n",
    "out_time[[\"EmployeeID\", \"Total_Hours\"]].to_csv(path + \"total_hours_per_employee.csv\", index=False)"
   ]
  },
  {
   "cell_type": "markdown",
   "metadata": {},
   "source": [
    "---"
   ]
  }
 ],
 "metadata": {
  "kernelspec": {
   "display_name": "Python 3",
   "language": "python",
   "name": "python3"
  },
  "language_info": {
   "codemirror_mode": {
    "name": "ipython",
    "version": 3
   },
   "file_extension": ".py",
   "mimetype": "text/x-python",
   "name": "python",
   "nbconvert_exporter": "python",
   "pygments_lexer": "ipython3",
   "version": "3.13.1"
  }
 },
 "nbformat": 4,
 "nbformat_minor": 2
}
