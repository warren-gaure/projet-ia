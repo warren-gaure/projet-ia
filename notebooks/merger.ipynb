{
 "cells": [
  {
   "cell_type": "markdown",
   "metadata": {},
   "source": [
    "### 1. <a id='importation'>Importation des bibliothèques</a>"
   ]
  },
  {
   "cell_type": "code",
   "execution_count": 15,
   "metadata": {},
   "outputs": [],
   "source": [
    "import pandas as pd\n",
    "import numpy as np\n",
    "import matplotlib.pyplot as plt\n",
    "import seaborn as sns\n",
    "import missingno as msno\n",
    "import warnings\n",
    "\n",
    "# Ignorer les avertissements\n",
    "warnings.filterwarnings('ignore')\n",
    "\n",
    "DELIMITER = \"--------------------------------\""
   ]
  },
  {
   "cell_type": "markdown",
   "metadata": {},
   "source": [
    "---"
   ]
  },
  {
   "cell_type": "markdown",
   "metadata": {},
   "source": [
    "### 2. <a id='chargement'>Chargement des données</a>"
   ]
  },
  {
   "cell_type": "code",
   "execution_count": 16,
   "metadata": {},
   "outputs": [],
   "source": [
    "employee_survey = pd.read_csv('../data/cleaned_employee_survey.csv')\n",
    "general_data = pd.read_csv('../data/cleaned_general_data.csv')\n",
    "manager_survey = pd.read_csv('../data/cleaned_manager_survey.csv')\n",
    "total_hours_per_employee = pd.read_csv('../data/total_hours_per_employee.csv')"
   ]
  },
  {
   "cell_type": "markdown",
   "metadata": {},
   "source": [
    "---"
   ]
  },
  {
   "cell_type": "markdown",
   "metadata": {},
   "source": [
    "### 3. <a id='merge'>Merge et sauvegarde des datasets</a>"
   ]
  },
  {
   "cell_type": "code",
   "execution_count": 17,
   "metadata": {},
   "outputs": [],
   "source": [
    "merged_dataset = general_data.merge(employee_survey, on='EmployeeID').merge(manager_survey, on='EmployeeID').merge(total_hours_per_employee, on='EmployeeID')\n",
    "\n",
    "merged_dataset.to_csv('../data/merged_data.csv', index=False)"
   ]
  },
  {
   "cell_type": "markdown",
   "metadata": {},
   "source": [
    "---"
   ]
  },
  {
   "cell_type": "markdown",
   "metadata": {},
   "source": [
    "### 4. <a id='apercu'>Aperçu général</a>"
   ]
  },
  {
   "cell_type": "code",
   "execution_count": 18,
   "metadata": {},
   "outputs": [
    {
     "name": "stdout",
     "output_type": "stream",
     "text": [
      "Nombre de lignes : 4410\n",
      "Nombre de colonnes : 48\n"
     ]
    }
   ],
   "source": [
    "print(f\"Nombre de lignes : {merged_dataset.shape[0]}\")\n",
    "print(f\"Nombre de colonnes : {merged_dataset.shape[1]}\")"
   ]
  },
  {
   "cell_type": "code",
   "execution_count": 19,
   "metadata": {},
   "outputs": [
    {
     "name": "stdout",
     "output_type": "stream",
     "text": [
      "Informations de base :\n",
      "<class 'pandas.core.frame.DataFrame'>\n",
      "RangeIndex: 4410 entries, 0 to 4409\n",
      "Data columns (total 48 columns):\n",
      " #   Column                             Non-Null Count  Dtype  \n",
      "---  ------                             --------------  -----  \n",
      " 0   Age                                4410 non-null   int64  \n",
      " 1   Attrition                          4410 non-null   int64  \n",
      " 2   DistanceFromHome                   4410 non-null   int64  \n",
      " 3   Education                          4410 non-null   int64  \n",
      " 4   EmployeeCount                      4410 non-null   int64  \n",
      " 5   EmployeeID                         4410 non-null   int64  \n",
      " 6   JobLevel                           4410 non-null   int64  \n",
      " 7   MonthlyIncome                      4410 non-null   int64  \n",
      " 8   NumCompaniesWorked                 4410 non-null   float64\n",
      " 9   Over18                             4410 non-null   int64  \n",
      " 10  PercentSalaryHike                  4410 non-null   int64  \n",
      " 11  StandardHours                      4410 non-null   int64  \n",
      " 12  StockOptionLevel                   4410 non-null   int64  \n",
      " 13  TotalWorkingYears                  4410 non-null   float64\n",
      " 14  TrainingTimesLastYear              4410 non-null   int64  \n",
      " 15  YearsAtCompany                     4410 non-null   int64  \n",
      " 16  YearsSinceLastPromotion            4410 non-null   int64  \n",
      " 17  YearsWithCurrManager               4410 non-null   int64  \n",
      " 18  AvgYearsPerCompany                 4410 non-null   float64\n",
      " 19  StabilityUnderManager              4410 non-null   float64\n",
      " 20  TravelIntensity                    4410 non-null   int64  \n",
      " 21  YearsBeforePromotion               4410 non-null   int64  \n",
      " 22  BusinessTravel_Travel_Frequently   4410 non-null   float64\n",
      " 23  BusinessTravel_Travel_Rarely       4410 non-null   float64\n",
      " 24  EducationField_Life Sciences       4410 non-null   float64\n",
      " 25  EducationField_Marketing           4410 non-null   float64\n",
      " 26  EducationField_Medical             4410 non-null   float64\n",
      " 27  EducationField_Other               4410 non-null   float64\n",
      " 28  EducationField_Technical Degree    4410 non-null   float64\n",
      " 29  Gender_Male                        4410 non-null   float64\n",
      " 30  MaritalStatus_Married              4410 non-null   float64\n",
      " 31  MaritalStatus_Single               4410 non-null   float64\n",
      " 32  JobRole_Human Resources            4410 non-null   float64\n",
      " 33  JobRole_Laboratory Technician      4410 non-null   float64\n",
      " 34  JobRole_Manager                    4410 non-null   float64\n",
      " 35  JobRole_Manufacturing Director     4410 non-null   float64\n",
      " 36  JobRole_Research Director          4410 non-null   float64\n",
      " 37  JobRole_Research Scientist         4410 non-null   float64\n",
      " 38  JobRole_Sales Executive            4410 non-null   float64\n",
      " 39  JobRole_Sales Representative       4410 non-null   float64\n",
      " 40  Department_Research & Development  4410 non-null   float64\n",
      " 41  Department_Sales                   4410 non-null   float64\n",
      " 42  EnvironmentSatisfaction            4410 non-null   float64\n",
      " 43  JobSatisfaction                    4410 non-null   float64\n",
      " 44  WorkLifeBalance                    4410 non-null   float64\n",
      " 45  JobInvolvement                     4410 non-null   int64  \n",
      " 46  PerformanceRating                  4410 non-null   int64  \n",
      " 47  Total_Hours                        4410 non-null   float64\n",
      "dtypes: float64(28), int64(20)\n",
      "memory usage: 1.6 MB\n"
     ]
    }
   ],
   "source": [
    "print(\"Informations de base :\")\n",
    "merged_dataset.info()"
   ]
  },
  {
   "cell_type": "code",
   "execution_count": 20,
   "metadata": {},
   "outputs": [
    {
     "name": "stdout",
     "output_type": "stream",
     "text": [
      "Sommaire des statistiques : \n",
      "               Age    Attrition  DistanceFromHome    Education  EmployeeCount  \\\n",
      "count  4410.000000  4410.000000       4410.000000  4410.000000         4410.0   \n",
      "mean     36.923810     0.161224          9.192517     1.912925            1.0   \n",
      "std       9.133301     0.367780          8.105026     1.023933            0.0   \n",
      "min      18.000000     0.000000          1.000000     0.000000            1.0   \n",
      "25%      30.000000     0.000000          2.000000     1.000000            1.0   \n",
      "50%      36.000000     0.000000          7.000000     2.000000            1.0   \n",
      "75%      43.000000     0.000000         14.000000     3.000000            1.0   \n",
      "max      60.000000     1.000000         29.000000     4.000000            1.0   \n",
      "\n",
      "        EmployeeID     JobLevel  MonthlyIncome  NumCompaniesWorked  Over18  \\\n",
      "count  4410.000000  4410.000000    4410.000000         4410.000000  4410.0   \n",
      "mean   2205.500000     2.063946   65029.312925            2.691837     1.0   \n",
      "std    1273.201673     1.106689   47068.888559            2.493912     0.0   \n",
      "min       1.000000     1.000000   10090.000000            0.000000     1.0   \n",
      "25%    1103.250000     1.000000   29110.000000            1.000000     1.0   \n",
      "50%    2205.500000     2.000000   49190.000000            2.000000     1.0   \n",
      "75%    3307.750000     3.000000   83800.000000            4.000000     1.0   \n",
      "max    4410.000000     5.000000  199990.000000            9.000000     1.0   \n",
      "\n",
      "       ...  JobRole_Sales Executive  JobRole_Sales Representative  \\\n",
      "count  ...              4410.000000                   4410.000000   \n",
      "mean   ...                 0.221769                      0.056463   \n",
      "std    ...                 0.415483                      0.230839   \n",
      "min    ...                 0.000000                      0.000000   \n",
      "25%    ...                 0.000000                      0.000000   \n",
      "50%    ...                 0.000000                      0.000000   \n",
      "75%    ...                 0.000000                      0.000000   \n",
      "max    ...                 1.000000                      1.000000   \n",
      "\n",
      "       Department_Research & Development  Department_Sales  \\\n",
      "count                        4410.000000       4410.000000   \n",
      "mean                            0.653741          0.303401   \n",
      "std                             0.475831          0.459779   \n",
      "min                             0.000000          0.000000   \n",
      "25%                             0.000000          0.000000   \n",
      "50%                             1.000000          0.000000   \n",
      "75%                             1.000000          1.000000   \n",
      "max                             1.000000          1.000000   \n",
      "\n",
      "       EnvironmentSatisfaction  JobSatisfaction  WorkLifeBalance  \\\n",
      "count              4410.000000      4410.000000      4410.000000   \n",
      "mean                  2.725170         2.729478         2.763492   \n",
      "std                   1.089852         1.098904         0.703541   \n",
      "min                   1.000000         1.000000         1.000000   \n",
      "25%                   2.000000         2.000000         2.000000   \n",
      "50%                   3.000000         3.000000         3.000000   \n",
      "75%                   4.000000         4.000000         3.000000   \n",
      "max                   4.000000         4.000000         4.000000   \n",
      "\n",
      "       JobInvolvement  PerformanceRating  Total_Hours  \n",
      "count     4410.000000        4410.000000  4410.000000  \n",
      "mean         2.729932           3.153741  1821.276234  \n",
      "std          0.711400           0.360742   331.361480  \n",
      "min          1.000000           3.000000  1348.800000  \n",
      "25%          2.000000           3.000000  1563.572500  \n",
      "50%          3.000000           3.000000  1745.785000  \n",
      "75%          3.000000           3.000000  1967.295000  \n",
      "max          4.000000           4.000000  2723.380000  \n",
      "\n",
      "[8 rows x 48 columns]\n"
     ]
    }
   ],
   "source": [
    "print(f\"Sommaire des statistiques : \\n{merged_dataset.describe()}\")"
   ]
  },
  {
   "cell_type": "code",
   "execution_count": 21,
   "metadata": {},
   "outputs": [
    {
     "name": "stdout",
     "output_type": "stream",
     "text": [
      "Nombre de valeurs uniques par colonne :\n",
      "- Age : 43 valeurs uniques\n",
      "- Attrition : 2 valeurs uniques\n",
      "- DistanceFromHome : 29 valeurs uniques\n",
      "- Education : 5 valeurs uniques\n",
      "- EmployeeCount : 1 valeurs uniques\n",
      "- EmployeeID : 4410 valeurs uniques\n",
      "- JobLevel : 5 valeurs uniques\n",
      "- MonthlyIncome : 1349 valeurs uniques\n",
      "- NumCompaniesWorked : 10 valeurs uniques\n",
      "- Over18 : 1 valeurs uniques\n",
      "- PercentSalaryHike : 15 valeurs uniques\n",
      "- StandardHours : 1 valeurs uniques\n",
      "- StockOptionLevel : 4 valeurs uniques\n",
      "- TotalWorkingYears : 40 valeurs uniques\n",
      "- TrainingTimesLastYear : 7 valeurs uniques\n",
      "- YearsAtCompany : 37 valeurs uniques\n",
      "- YearsSinceLastPromotion : 16 valeurs uniques\n",
      "- YearsWithCurrManager : 18 valeurs uniques\n",
      "- AvgYearsPerCompany : 167 valeurs uniques\n",
      "- StabilityUnderManager : 117 valeurs uniques\n",
      "- TravelIntensity : 45 valeurs uniques\n",
      "- YearsBeforePromotion : 31 valeurs uniques\n",
      "- BusinessTravel_Travel_Frequently : 2 valeurs uniques\n",
      "- BusinessTravel_Travel_Rarely : 2 valeurs uniques\n",
      "- EducationField_Life Sciences : 2 valeurs uniques\n",
      "- EducationField_Marketing : 2 valeurs uniques\n",
      "- EducationField_Medical : 2 valeurs uniques\n",
      "- EducationField_Other : 2 valeurs uniques\n",
      "- EducationField_Technical Degree : 2 valeurs uniques\n",
      "- Gender_Male : 2 valeurs uniques\n",
      "- MaritalStatus_Married : 2 valeurs uniques\n",
      "- MaritalStatus_Single : 2 valeurs uniques\n",
      "- JobRole_Human Resources : 2 valeurs uniques\n",
      "- JobRole_Laboratory Technician : 2 valeurs uniques\n",
      "- JobRole_Manager : 2 valeurs uniques\n",
      "- JobRole_Manufacturing Director : 2 valeurs uniques\n",
      "- JobRole_Research Director : 2 valeurs uniques\n",
      "- JobRole_Research Scientist : 2 valeurs uniques\n",
      "- JobRole_Sales Executive : 2 valeurs uniques\n",
      "- JobRole_Sales Representative : 2 valeurs uniques\n",
      "- Department_Research & Development : 2 valeurs uniques\n",
      "- Department_Sales : 2 valeurs uniques\n",
      "- EnvironmentSatisfaction : 4 valeurs uniques\n",
      "- JobSatisfaction : 4 valeurs uniques\n",
      "- WorkLifeBalance : 4 valeurs uniques\n",
      "- JobInvolvement : 4 valeurs uniques\n",
      "- PerformanceRating : 2 valeurs uniques\n",
      "- Total_Hours : 4297 valeurs uniques\n"
     ]
    }
   ],
   "source": [
    "print(\"Nombre de valeurs uniques par colonne :\")\n",
    "for column in merged_dataset.columns:\n",
    "    print(f\"- {column} : {merged_dataset[column].nunique()} valeurs uniques\")"
   ]
  },
  {
   "cell_type": "code",
   "execution_count": 22,
   "metadata": {},
   "outputs": [
    {
     "data": {
      "text/html": [
       "<div>\n",
       "<style scoped>\n",
       "    .dataframe tbody tr th:only-of-type {\n",
       "        vertical-align: middle;\n",
       "    }\n",
       "\n",
       "    .dataframe tbody tr th {\n",
       "        vertical-align: top;\n",
       "    }\n",
       "\n",
       "    .dataframe thead th {\n",
       "        text-align: right;\n",
       "    }\n",
       "</style>\n",
       "<table border=\"1\" class=\"dataframe\">\n",
       "  <thead>\n",
       "    <tr style=\"text-align: right;\">\n",
       "      <th></th>\n",
       "      <th>Age</th>\n",
       "      <th>Attrition</th>\n",
       "      <th>DistanceFromHome</th>\n",
       "      <th>Education</th>\n",
       "      <th>EmployeeCount</th>\n",
       "      <th>EmployeeID</th>\n",
       "      <th>JobLevel</th>\n",
       "      <th>MonthlyIncome</th>\n",
       "      <th>NumCompaniesWorked</th>\n",
       "      <th>Over18</th>\n",
       "      <th>...</th>\n",
       "      <th>JobRole_Sales Executive</th>\n",
       "      <th>JobRole_Sales Representative</th>\n",
       "      <th>Department_Research &amp; Development</th>\n",
       "      <th>Department_Sales</th>\n",
       "      <th>EnvironmentSatisfaction</th>\n",
       "      <th>JobSatisfaction</th>\n",
       "      <th>WorkLifeBalance</th>\n",
       "      <th>JobInvolvement</th>\n",
       "      <th>PerformanceRating</th>\n",
       "      <th>Total_Hours</th>\n",
       "    </tr>\n",
       "  </thead>\n",
       "  <tbody>\n",
       "    <tr>\n",
       "      <th>0</th>\n",
       "      <td>51</td>\n",
       "      <td>0</td>\n",
       "      <td>6</td>\n",
       "      <td>1</td>\n",
       "      <td>1</td>\n",
       "      <td>1</td>\n",
       "      <td>1</td>\n",
       "      <td>131160</td>\n",
       "      <td>1.0</td>\n",
       "      <td>1</td>\n",
       "      <td>...</td>\n",
       "      <td>0.0</td>\n",
       "      <td>0.0</td>\n",
       "      <td>0.0</td>\n",
       "      <td>1.0</td>\n",
       "      <td>3.0</td>\n",
       "      <td>4.0</td>\n",
       "      <td>2.0</td>\n",
       "      <td>3</td>\n",
       "      <td>3</td>\n",
       "      <td>1710.69</td>\n",
       "    </tr>\n",
       "    <tr>\n",
       "      <th>1</th>\n",
       "      <td>31</td>\n",
       "      <td>1</td>\n",
       "      <td>10</td>\n",
       "      <td>0</td>\n",
       "      <td>1</td>\n",
       "      <td>2</td>\n",
       "      <td>1</td>\n",
       "      <td>41890</td>\n",
       "      <td>0.0</td>\n",
       "      <td>1</td>\n",
       "      <td>...</td>\n",
       "      <td>0.0</td>\n",
       "      <td>0.0</td>\n",
       "      <td>1.0</td>\n",
       "      <td>0.0</td>\n",
       "      <td>3.0</td>\n",
       "      <td>2.0</td>\n",
       "      <td>4.0</td>\n",
       "      <td>2</td>\n",
       "      <td>4</td>\n",
       "      <td>1821.68</td>\n",
       "    </tr>\n",
       "    <tr>\n",
       "      <th>2</th>\n",
       "      <td>32</td>\n",
       "      <td>0</td>\n",
       "      <td>17</td>\n",
       "      <td>3</td>\n",
       "      <td>1</td>\n",
       "      <td>3</td>\n",
       "      <td>4</td>\n",
       "      <td>193280</td>\n",
       "      <td>1.0</td>\n",
       "      <td>1</td>\n",
       "      <td>...</td>\n",
       "      <td>1.0</td>\n",
       "      <td>0.0</td>\n",
       "      <td>1.0</td>\n",
       "      <td>0.0</td>\n",
       "      <td>2.0</td>\n",
       "      <td>2.0</td>\n",
       "      <td>1.0</td>\n",
       "      <td>3</td>\n",
       "      <td>3</td>\n",
       "      <td>1697.20</td>\n",
       "    </tr>\n",
       "    <tr>\n",
       "      <th>3</th>\n",
       "      <td>38</td>\n",
       "      <td>0</td>\n",
       "      <td>2</td>\n",
       "      <td>4</td>\n",
       "      <td>1</td>\n",
       "      <td>4</td>\n",
       "      <td>3</td>\n",
       "      <td>83210</td>\n",
       "      <td>3.0</td>\n",
       "      <td>1</td>\n",
       "      <td>...</td>\n",
       "      <td>0.0</td>\n",
       "      <td>0.0</td>\n",
       "      <td>1.0</td>\n",
       "      <td>0.0</td>\n",
       "      <td>4.0</td>\n",
       "      <td>4.0</td>\n",
       "      <td>3.0</td>\n",
       "      <td>2</td>\n",
       "      <td>3</td>\n",
       "      <td>1690.51</td>\n",
       "    </tr>\n",
       "    <tr>\n",
       "      <th>4</th>\n",
       "      <td>32</td>\n",
       "      <td>0</td>\n",
       "      <td>10</td>\n",
       "      <td>0</td>\n",
       "      <td>1</td>\n",
       "      <td>5</td>\n",
       "      <td>1</td>\n",
       "      <td>23420</td>\n",
       "      <td>4.0</td>\n",
       "      <td>1</td>\n",
       "      <td>...</td>\n",
       "      <td>1.0</td>\n",
       "      <td>0.0</td>\n",
       "      <td>1.0</td>\n",
       "      <td>0.0</td>\n",
       "      <td>4.0</td>\n",
       "      <td>1.0</td>\n",
       "      <td>3.0</td>\n",
       "      <td>3</td>\n",
       "      <td>3</td>\n",
       "      <td>1961.51</td>\n",
       "    </tr>\n",
       "  </tbody>\n",
       "</table>\n",
       "<p>5 rows × 48 columns</p>\n",
       "</div>"
      ],
      "text/plain": [
       "   Age  Attrition  DistanceFromHome  Education  EmployeeCount  EmployeeID  \\\n",
       "0   51          0                 6          1              1           1   \n",
       "1   31          1                10          0              1           2   \n",
       "2   32          0                17          3              1           3   \n",
       "3   38          0                 2          4              1           4   \n",
       "4   32          0                10          0              1           5   \n",
       "\n",
       "   JobLevel  MonthlyIncome  NumCompaniesWorked  Over18  ...  \\\n",
       "0         1         131160                 1.0       1  ...   \n",
       "1         1          41890                 0.0       1  ...   \n",
       "2         4         193280                 1.0       1  ...   \n",
       "3         3          83210                 3.0       1  ...   \n",
       "4         1          23420                 4.0       1  ...   \n",
       "\n",
       "   JobRole_Sales Executive  JobRole_Sales Representative  \\\n",
       "0                      0.0                           0.0   \n",
       "1                      0.0                           0.0   \n",
       "2                      1.0                           0.0   \n",
       "3                      0.0                           0.0   \n",
       "4                      1.0                           0.0   \n",
       "\n",
       "   Department_Research & Development  Department_Sales  \\\n",
       "0                                0.0               1.0   \n",
       "1                                1.0               0.0   \n",
       "2                                1.0               0.0   \n",
       "3                                1.0               0.0   \n",
       "4                                1.0               0.0   \n",
       "\n",
       "   EnvironmentSatisfaction  JobSatisfaction  WorkLifeBalance  JobInvolvement  \\\n",
       "0                      3.0              4.0              2.0               3   \n",
       "1                      3.0              2.0              4.0               2   \n",
       "2                      2.0              2.0              1.0               3   \n",
       "3                      4.0              4.0              3.0               2   \n",
       "4                      4.0              1.0              3.0               3   \n",
       "\n",
       "   PerformanceRating  Total_Hours  \n",
       "0                  3      1710.69  \n",
       "1                  4      1821.68  \n",
       "2                  3      1697.20  \n",
       "3                  3      1690.51  \n",
       "4                  3      1961.51  \n",
       "\n",
       "[5 rows x 48 columns]"
      ]
     },
     "metadata": {},
     "output_type": "display_data"
    }
   ],
   "source": [
    "display(merged_dataset.head())"
   ]
  },
  {
   "cell_type": "markdown",
   "metadata": {},
   "source": [
    "---"
   ]
  },
  {
   "cell_type": "markdown",
   "metadata": {},
   "source": [
    "### 5. <a id='missing-check'>Gestion des valeurs manquantes</a>"
   ]
  },
  {
   "cell_type": "code",
   "execution_count": 23,
   "metadata": {},
   "outputs": [
    {
     "name": "stdout",
     "output_type": "stream",
     "text": [
      "Il n'y a pas de valeurs manquantes dans le dataset\n"
     ]
    }
   ],
   "source": [
    "if (merged_dataset.isnull().sum() > 0).any():\n",
    "    missing_values = merged_dataset.isnull().sum()[merged_dataset.isnull().sum() > 0]\n",
    "    missing_percentage = (missing_values / len(merged_dataset) * 100).round(2)\n",
    "    print(\"Valeurs manquantes par colonne :\")\n",
    "    for col in missing_values.index:\n",
    "        print(f\"{col} : {missing_values[col]} valeurs ({missing_percentage[col]}%)\")\n",
    "else:\n",
    "    print(\"Il n'y a pas de valeurs manquantes dans le dataset\")"
   ]
  },
  {
   "cell_type": "markdown",
   "metadata": {},
   "source": [
    "---"
   ]
  },
  {
   "cell_type": "markdown",
   "metadata": {},
   "source": [
    "### 6. <a id='doublons'>Gestion des valeurs dupliquées</a>"
   ]
  },
  {
   "cell_type": "code",
   "execution_count": 24,
   "metadata": {},
   "outputs": [
    {
     "name": "stdout",
     "output_type": "stream",
     "text": [
      "Il n'y a pas de valeurs dupliquées dans le dataset\n"
     ]
    }
   ],
   "source": [
    "if merged_dataset.duplicated().sum() > 0:\n",
    "    print(f\"Nombre de valeurs dupliquées : {merged_dataset.duplicated().sum()}\")\n",
    "    merged_dataset = merged_dataset.drop_duplicates()\n",
    "    print(f\"Nombre de lignes après suppression des doublons : {merged_dataset.shape[0]}\")\n",
    "else:\n",
    "    print(\"Il n'y a pas de valeurs dupliquées dans le dataset\")"
   ]
  },
  {
   "cell_type": "markdown",
   "metadata": {},
   "source": [
    "---"
   ]
  },
  {
   "cell_type": "markdown",
   "metadata": {},
   "source": [
    "### 7. <a id='types'>Vérification des types de données</a>"
   ]
  },
  {
   "cell_type": "code",
   "execution_count": 25,
   "metadata": {},
   "outputs": [
    {
     "name": "stdout",
     "output_type": "stream",
     "text": [
      "Aucune valeur non numérique a été trouvée dans les colonnes numériques\n"
     ]
    }
   ],
   "source": [
    "numerical_columns = merged_dataset.select_dtypes(include=['int64', 'float64']).columns\n",
    "\n",
    "for column in numerical_columns:\n",
    "    invalid_values = merged_dataset[column].apply(lambda x: isinstance(x, (str)))\n",
    "    if invalid_values.any():\n",
    "        print(f\"La colonne {column} contient des valeurs non numériques :\")\n",
    "        print(merged_dataset[invalid_values][column])\n",
    "        print(DELIMITER)\n",
    "\n",
    "if not invalid_values.any():\n",
    "    print(\"Aucune valeur non numérique a été trouvée dans les colonnes numériques\")"
   ]
  },
  {
   "cell_type": "code",
   "execution_count": 26,
   "metadata": {},
   "outputs": [],
   "source": [
    "categorical_columns = merged_dataset.select_dtypes(include=['object']).columns\n",
    "\n",
    "for column in categorical_columns:\n",
    "    print(f\"Vérification des valeurs uniques dans la colonne {column}\")\n",
    "    print(merged_dataset[column].unique())\n",
    "    print(DELIMITER)"
   ]
  },
  {
   "cell_type": "markdown",
   "metadata": {},
   "source": [
    "---"
   ]
  },
  {
   "cell_type": "markdown",
   "metadata": {},
   "source": [
    "### 8. <a id='pipeline'>Pipeline de traitement des données</a>"
   ]
  },
  {
   "cell_type": "markdown",
   "metadata": {},
   "source": [
    "# <font color=\"red\"><center>**WIP**</center></font>"
   ]
  }
 ],
 "metadata": {
  "kernelspec": {
   "display_name": "Python 3",
   "language": "python",
   "name": "python3"
  },
  "language_info": {
   "codemirror_mode": {
    "name": "ipython",
    "version": 3
   },
   "file_extension": ".py",
   "mimetype": "text/x-python",
   "name": "python",
   "nbconvert_exporter": "python",
   "pygments_lexer": "ipython3",
   "version": "3.13.1"
  }
 },
 "nbformat": 4,
 "nbformat_minor": 2
}
